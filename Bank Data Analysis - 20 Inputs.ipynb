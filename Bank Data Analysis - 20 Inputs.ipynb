{
  "cells": [
    {
      "cell_type": "code",
      "execution_count": 45,
      "metadata": {
        "id": "jJdJLdcD1kVr"
      },
      "outputs": [],
      "source": [
        "# Importing necessary libraries\n",
        "import pandas as pd\n",
        "import numpy as np\n",
        "import matplotlib.pyplot as plt\n",
        "import seaborn as sns\n",
        "from collections import Counter\n",
        "from sklearn.model_selection import train_test_split\n",
        "from sklearn.preprocessing import StandardScaler\n",
        "from imblearn.over_sampling import SMOTE\n",
        "from sklearn.linear_model import LogisticRegression\n",
        "from sklearn.metrics import classification_report, confusion_matrix"
      ]
    },
    {
      "cell_type": "code",
      "execution_count": null,
      "metadata": {
        "colab": {
          "base_uri": "https://localhost:8080/",
          "height": 443
        },
        "id": "BvHggjQD1s1d",
        "outputId": "ed7a7cf0-55e8-4b53-c00c-d5e24efb06e8"
      },
      "outputs": [],
      "source": [
        "# reading full data\n",
        "pd.read_csv(\"Data/bank-additional-full.csv\")"
      ]
    },
    {
      "cell_type": "code",
      "execution_count": null,
      "metadata": {
        "colab": {
          "base_uri": "https://localhost:8080/",
          "height": 206
        },
        "id": "FAcMQsN52yFF",
        "outputId": "b8226780-6f17-4a36-88bd-31396bbe5ee4"
      },
      "outputs": [],
      "source": [
        "law = pd.read_csv(\"Data/bank-additional-full.csv\", sep=';')\n",
        "law.head()"
      ]
    },
    {
      "cell_type": "code",
      "execution_count": null,
      "metadata": {
        "colab": {
          "base_uri": "https://localhost:8080/",
          "height": 300
        },
        "id": "ijNXBzp_6pEM",
        "outputId": "562966af-d9b4-44d7-ea03-d8baa92634cf"
      },
      "outputs": [],
      "source": [
        "law.describe()"
      ]
    },
    {
      "cell_type": "code",
      "execution_count": null,
      "metadata": {
        "colab": {
          "base_uri": "https://localhost:8080/"
        },
        "id": "T1LN9zaC7819",
        "outputId": "68c6a4b9-77ed-4ca8-89c9-b7c9720591ad"
      },
      "outputs": [],
      "source": [
        "law.info()"
      ]
    },
    {
      "cell_type": "code",
      "execution_count": null,
      "metadata": {
        "colab": {
          "base_uri": "https://localhost:8080/",
          "height": 617
        },
        "id": "hbGL9nIf8KzP",
        "outputId": "556b360e-74d0-44d0-b1f5-04782c640fb3"
      },
      "outputs": [],
      "source": [
        "law.isnull().sum()"
      ]
    },
    {
      "cell_type": "markdown",
      "metadata": {
        "id": "fF67e93O8kDw"
      },
      "source": [
        "Exploratory Data Analysis"
      ]
    },
    {
      "cell_type": "code",
      "execution_count": null,
      "metadata": {
        "colab": {
          "base_uri": "https://localhost:8080/",
          "height": 178
        },
        "id": "RcbxCfnj97KK",
        "outputId": "0ad32e0e-02dd-4813-9884-481e99b7ea37"
      },
      "outputs": [],
      "source": [
        "law[\"y\"].value_counts(normalize = True)"
      ]
    },
    {
      "cell_type": "markdown",
      "metadata": {
        "id": "0ugt5RSFFang"
      },
      "source": [
        "Changing month value into numerical values"
      ]
    },
    {
      "cell_type": "code",
      "execution_count": null,
      "metadata": {
        "id": "r-5-qqy8Dv0r"
      },
      "outputs": [],
      "source": [
        "month_to_nv = {\n",
        "    \"jan\": 1,\n",
        "    \"feb\": 2,\n",
        "    \"mar\": 3,\n",
        "    \"apr\": 4,\n",
        "    \"may\": 5,\n",
        "    \"jun\": 6,\n",
        "    \"jul\": 7,\n",
        "    \"aug\": 8,\n",
        "    \"sep\": 9,\n",
        "    \"oct\": 10,\n",
        "    \"nov\": 11,\n",
        "    \"dec\": 12\n",
        "}\n",
        "\n",
        "for df in [law]:\n",
        "    if 'month' in df.columns and df['month'].dtype == 'object':\n",
        "        df['month'] = df['month'].map(month_to_nv)"
      ]
    },
    {
      "cell_type": "code",
      "execution_count": null,
      "metadata": {},
      "outputs": [],
      "source": [
        "law"
      ]
    },
    {
      "cell_type": "code",
      "execution_count": null,
      "metadata": {},
      "outputs": [],
      "source": [
        "# Changing Yes and No to 1 and 0 (Where Yes is 1 and No is 0)\n",
        "yes_no_columns = law.columns[law.isin(['yes', 'no']).any()]\n",
        "law[yes_no_columns] = law[yes_no_columns].applymap(lambda x: 1 if x == 'yes' else (0 if x == 'no' else x))"
      ]
    },
    {
      "cell_type": "code",
      "execution_count": null,
      "metadata": {},
      "outputs": [],
      "source": [
        "law.head()"
      ]
    },
    {
      "cell_type": "code",
      "execution_count": null,
      "metadata": {},
      "outputs": [],
      "source": [
        "P_values = ['age', 'default', 'housing', 'loan', 'day_of_week', 'month', 'duration', 'campaign', 'previous']\n",
        "plt.figure(figsize=(15, 20))\n",
        "for i, P_values in enumerate(P_values):\n",
        "    plt.subplot(5, 2, i + 1)\n",
        "    if law[P_values].dtype == 'object':\n",
        "        sns.stripplot(x = P_values, y='y', data = law, jitter=True, alpha=0.6)\n",
        "    else:\n",
        "        plt.scatter(law[P_values], law['y'], alpha = 0.5, color = \"red\")\n",
        "        plt.xlabel(P_values)\n",
        "        plt.ylabel('y')\n",
        "        plt.title(f'{P_values} vs y')\n",
        "\n",
        "plt.tight_layout()\n",
        "plt.show()"
      ]
    },
    {
      "cell_type": "markdown",
      "metadata": {
        "id": "eMJk83wUFIQJ"
      },
      "source": [
        "Converting Columns into Binary"
      ]
    },
    {
      "cell_type": "code",
      "execution_count": null,
      "metadata": {
        "id": "UCP-k5_RFACp"
      },
      "outputs": [],
      "source": [
        "for column in law.select_dtypes(include = \"object\").columns:\n",
        "    if len(law[column].unique()) == 2 and column != 'month':\n",
        "        law[column] = law[column].apply(lambda x: 1 if x == \"yes\" else 0)"
      ]
    },
    {
      "cell_type": "markdown",
      "metadata": {
        "id": "4-aFFGDaFT7Q"
      },
      "source": [
        "Encoding Columns"
      ]
    },
    {
      "cell_type": "code",
      "execution_count": null,
      "metadata": {
        "id": "kv0XN8T6FDMq"
      },
      "outputs": [],
      "source": [
        "obj_columns = law.select_dtypes(include = \"object\").columns\n",
        "law = pd.get_dummies(law, columns = obj_columns)\n",
        "law[law.select_dtypes(include = \"bool\").columns] = law[law.select_dtypes(include = \"bool\").columns].astype(int)"
      ]
    },
    {
      "cell_type": "markdown",
      "metadata": {
        "id": "HTJmcXdnFnBq"
      },
      "source": [
        "Feature Extraction (Numerical and Categorical Extraction)"
      ]
    },
    {
      "cell_type": "code",
      "execution_count": null,
      "metadata": {
        "id": "myG1iOJAFmVY"
      },
      "outputs": [],
      "source": [
        "numerical_feature = []\n",
        "categorical_feature = []\n",
        "\n",
        "for column in law.columns:\n",
        "    if column == \"Target\":\n",
        "        continue\n",
        "    elif len(law[column].unique()) <= 10:\n",
        "        categorical_feature.append(column)\n",
        "    else:\n",
        "        numerical_feature.append(column)"
      ]
    },
    {
      "cell_type": "markdown",
      "metadata": {
        "id": "qfVuAUQAFxR3"
      },
      "source": [
        "Cleraing Outliers"
      ]
    },
    {
      "cell_type": "code",
      "execution_count": null,
      "metadata": {
        "id": "Vwi0gM9PFrkU"
      },
      "outputs": [],
      "source": [
        "no_o_law = law.copy()\n",
        "for column in numerical_feature:\n",
        "    IQR = no_o_law[column].quantile(0.75) - no_o_law[column].quantile(0.25)\n",
        "    lower_bound = no_o_law[column].quantile(0.25) - 1.5 * IQR\n",
        "    upper_bound = no_o_law[column].quantile(0.75) + 1.5 * IQR\n",
        "    no_o_law = no_o_law[(no_o_law[column] >= lower_bound) & (no_o_law[column] <= upper_bound)]"
      ]
    },
    {
      "cell_type": "code",
      "execution_count": null,
      "metadata": {
        "colab": {
          "base_uri": "https://localhost:8080/",
          "height": 255
        },
        "id": "6bt1YK6ENqYZ",
        "outputId": "78798833-03c3-4c6c-d916-2b1d475c02cf"
      },
      "outputs": [],
      "source": [
        "law.head()"
      ]
    },
    {
      "cell_type": "code",
      "execution_count": null,
      "metadata": {
        "id": "AewrKM2xEuCF"
      },
      "outputs": [],
      "source": [
        "X = law.drop(\"y\", axis=1)\n",
        "y = law[\"y\"]\n",
        "\n",
        "non_numeric = X.select_dtypes(include=\"object\").columns\n",
        "print(\"Non-numeric columns:\", non_numeric)"
      ]
    },
    {
      "cell_type": "code",
      "execution_count": null,
      "metadata": {
        "id": "NhoeXxvACYCG"
      },
      "outputs": [],
      "source": [
        "X_all = pd.get_dummies(X, drop_first=True)"
      ]
    },
    {
      "cell_type": "code",
      "execution_count": null,
      "metadata": {},
      "outputs": [],
      "source": [
        "law.head()"
      ]
    },
    {
      "cell_type": "code",
      "execution_count": null,
      "metadata": {},
      "outputs": [],
      "source": [
        "X_train, X_test, y_train, y_test = train_test_split(X, y, test_size = 0.1)"
      ]
    },
    {
      "cell_type": "code",
      "execution_count": null,
      "metadata": {
        "colab": {
          "base_uri": "https://localhost:8080/",
          "height": 80
        },
        "id": "O7DuV6tmM3IQ",
        "outputId": "8d3dfb45-32e5-4dbb-fc40-87cb0077d866"
      },
      "outputs": [],
      "source": [
        "model = LogisticRegression(max_iter=1000)\n",
        "model.fit(X_train, y_train)"
      ]
    },
    {
      "cell_type": "code",
      "execution_count": null,
      "metadata": {},
      "outputs": [],
      "source": [
        "model.predict(X_test,)"
      ]
    },
    {
      "cell_type": "code",
      "execution_count": null,
      "metadata": {},
      "outputs": [],
      "source": [
        "y_test"
      ]
    },
    {
      "cell_type": "code",
      "execution_count": null,
      "metadata": {},
      "outputs": [],
      "source": [
        "model.score(X_test, y_test)"
      ]
    },
    {
      "cell_type": "code",
      "execution_count": null,
      "metadata": {
        "colab": {
          "base_uri": "https://localhost:8080/"
        },
        "id": "Eh7OQxVzNCuu",
        "outputId": "83dfc7f2-8c00-4223-9be1-3cdf9386d13d"
      },
      "outputs": [],
      "source": [
        "\n",
        "y_pred = model.predict(X_test)\n",
        "print(classification_report(y_test, y_pred))\n",
        "print(\"\\n\", Counter(y_test), \"\\n\", Counter(y_pred))"
      ]
    }
  ],
  "metadata": {
    "colab": {
      "provenance": []
    },
    "kernelspec": {
      "display_name": "Python 3",
      "name": "python3"
    },
    "language_info": {
      "codemirror_mode": {
        "name": "ipython",
        "version": 3
      },
      "file_extension": ".py",
      "mimetype": "text/x-python",
      "name": "python",
      "nbconvert_exporter": "python",
      "pygments_lexer": "ipython3",
      "version": "3.11.5"
    }
  },
  "nbformat": 4,
  "nbformat_minor": 0
}
